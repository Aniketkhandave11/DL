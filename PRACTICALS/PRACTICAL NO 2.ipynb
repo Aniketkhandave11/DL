{
  "nbformat": 4,
  "nbformat_minor": 0,
  "metadata": {
    "colab": {
      "provenance": []
    },
    "kernelspec": {
      "name": "python3",
      "display_name": "Python 3"
    },
    "language_info": {
      "name": "python"
    }
  },
  "cells": [
    {
      "cell_type": "code",
      "execution_count": 2,
      "metadata": {
        "colab": {
          "base_uri": "https://localhost:8080/"
        },
        "id": "GtxKKD2XXU2h",
        "outputId": "04383766-e2fc-4344-bec5-b6f36f3ed0f6"
      },
      "outputs": [
        {
          "output_type": "stream",
          "name": "stdout",
          "text": [
            "Requirement already satisfied: opencv-python-headless in /usr/local/lib/python3.10/dist-packages (4.10.0.84)\n",
            "Requirement already satisfied: numpy>=1.21.2 in /usr/local/lib/python3.10/dist-packages (from opencv-python-headless) (1.26.4)\n",
            "Requirement already satisfied: opencv-contrib-python in /usr/local/lib/python3.10/dist-packages (4.10.0.84)\n",
            "Requirement already satisfied: numpy>=1.21.2 in /usr/local/lib/python3.10/dist-packages (from opencv-contrib-python) (1.26.4)\n"
          ]
        }
      ],
      "source": [
        "!pip install opencv-python-headless\n",
        "!pip install opencv-contrib-python\n"
      ]
    },
    {
      "cell_type": "code",
      "source": [
        "import cv2\n",
        "import numpy as np\n",
        "import os\n",
        "from sklearn.preprocessing import LabelEncoder\n",
        "from sklearn.model_selection import train_test_split\n",
        "from keras.models import Sequential\n",
        "from keras.layers import Dense, Flatten\n",
        "from keras.optimizers import Adam\n",
        "\n",
        "# Initialize OpenCV's face detector (Haar Cascade)\n",
        "face_cascade = cv2.CascadeClassifier(cv2.data.haarcascades + 'haarcascade_frontalface_default.xml')\n",
        "\n",
        "# Function to detect faces and extract the region of interest (ROI)\n",
        "def extract_face(image_path):\n",
        "    img = cv2.imread(image_path)\n",
        "    if img is None:\n",
        "        print(f\"Failed to load image {image_path}\")\n",
        "        return None\n",
        "    gray = cv2.cvtColor(img, cv2.COLOR_BGR2GRAY)\n",
        "    faces = face_cascade.detectMultiScale(gray, scaleFactor=1.1, minNeighbors=5)\n",
        "\n",
        "    if len(faces) == 0:\n",
        "        print(f\"No face detected in image {image_path}\")\n",
        "        return None  # No faces found\n",
        "\n",
        "    x, y, w, h = faces[0]  # Take the first detected face\n",
        "    face = img[y:y+h, x:x+w]\n",
        "    return face\n",
        "\n",
        "# Prepare data: Extract faces and labels from folder\n",
        "def prepare_data(data_directory):\n",
        "    faces = []\n",
        "    labels = []\n",
        "    label_names = os.listdir(data_directory)\n",
        "\n",
        "    for label_name in label_names:\n",
        "        label_dir = os.path.join(data_directory, label_name)\n",
        "        if os.path.isdir(label_dir):\n",
        "            for img_name in os.listdir(label_dir):\n",
        "                img_path = os.path.join(label_dir, img_name)\n",
        "                face = extract_face(img_path)\n",
        "                if face is not None:\n",
        "                    faces.append(cv2.cvtColor(face, cv2.COLOR_BGR2GRAY))  # Convert face to grayscale\n",
        "                    labels.append(label_name)\n",
        "                else:\n",
        "                    print(f\"No face found in {img_path}\")\n",
        "\n",
        "    print(f\"Total faces detected: {len(faces)}\")  # Debugging line\n",
        "    return np.array(faces), np.array(labels)\n",
        "\n",
        "# Load data (Assuming the folder contains images of 'Person 1' and 'Person 2')\n",
        "data_directory = '/content/DATA'  # Path to your dataset\n",
        "faces, labels = prepare_data(data_directory)\n",
        "\n",
        "if faces.shape[0] == 0:\n",
        "    raise ValueError(\"No faces detected in the dataset. Please check the dataset and try again.\")\n",
        "\n",
        "# Encode labels to integers (Binary classification: Person1, Person2)\n",
        "label_encoder = LabelEncoder()\n",
        "encoded_labels = label_encoder.fit_transform(labels)\n",
        "\n",
        "# Normalize the pixel values to [0, 1]\n",
        "faces = faces / 255.0\n",
        "print(f\"Shape of first face: {faces[0].shape}\")  # Debugging line\n",
        "\n",
        "# Reshape for CNN input\n",
        "faces = faces.reshape(faces.shape[0], faces.shape[1], faces.shape[2], 1)  # Reshape for CNN input\n",
        "\n",
        "# Split into train and test sets\n",
        "X_train, X_test, y_train, y_test = train_test_split(faces, encoded_labels, test_size=0.2, random_state=42)\n",
        "\n",
        "# Build the CNN model for binary classification\n",
        "model = Sequential()\n",
        "model.add(Flatten(input_shape=(faces.shape[1], faces.shape[2], 1)))  # Flatten the 2D faces to 1D\n",
        "model.add(Dense(64, activation='relu'))  # First dense layer\n",
        "model.add(Dense(1, activation='sigmoid'))  # Binary output (Person1 or Person2)\n",
        "\n",
        "# Compile the model\n",
        "model.compile(optimizer=Adam(), loss='binary_crossentropy', metrics=['accuracy'])\n",
        "\n",
        "# Train the model\n",
        "model.fit(X_train, y_train, epochs=5, batch_size=32, validation_data=(X_test, y_test))\n",
        "\n",
        "# Evaluate the model on the test data\n",
        "loss, accuracy = model.evaluate(X_test, y_test)\n",
        "print(f'Accuracy: {accuracy * 100:.2f}%')\n",
        "\n",
        "# Test the model with a new image\n",
        "test_image_path = '/content/P2.jpg'  # Path to a test image\n",
        "test_face = extract_face(test_image_path)\n",
        "\n",
        "if test_face is not None:\n",
        "    test_face = cv2.cvtColor(test_face, cv2.COLOR_BGR2GRAY)\n",
        "    test_face = test_face / 255.0\n",
        "    test_face = test_face.reshape(1, test_face.shape[0], test_face.shape[1], 1)  # Reshape for CNN\n",
        "    prediction = model.predict(test_face)\n",
        "\n",
        "    predicted_label = 'Person 1' if prediction[0] < 0.5 else 'Person 2'\n",
        "    print(f'Predicted label: {predicted_label}')\n",
        "else:\n",
        "    print(\"No face detected in the test image.\")\n"
      ],
      "metadata": {
        "colab": {
          "base_uri": "https://localhost:8080/",
          "height": 228
        },
        "id": "jL4RHem4XZvO",
        "outputId": "33d559d2-1ffb-4f3a-db27-bf2ed9870def"
      },
      "execution_count": 6,
      "outputs": [
        {
          "output_type": "stream",
          "name": "stdout",
          "text": [
            "Total faces detected: 0\n"
          ]
        },
        {
          "output_type": "error",
          "ename": "ValueError",
          "evalue": "No faces detected in the dataset. Please check the dataset and try again.",
          "traceback": [
            "\u001b[0;31m---------------------------------------------------------------------------\u001b[0m",
            "\u001b[0;31mValueError\u001b[0m                                Traceback (most recent call last)",
            "\u001b[0;32m<ipython-input-6-a299b80ad6f2>\u001b[0m in \u001b[0;36m<cell line: 55>\u001b[0;34m()\u001b[0m\n\u001b[1;32m     54\u001b[0m \u001b[0;34m\u001b[0m\u001b[0m\n\u001b[1;32m     55\u001b[0m \u001b[0;32mif\u001b[0m \u001b[0mfaces\u001b[0m\u001b[0;34m.\u001b[0m\u001b[0mshape\u001b[0m\u001b[0;34m[\u001b[0m\u001b[0;36m0\u001b[0m\u001b[0;34m]\u001b[0m \u001b[0;34m==\u001b[0m \u001b[0;36m0\u001b[0m\u001b[0;34m:\u001b[0m\u001b[0;34m\u001b[0m\u001b[0;34m\u001b[0m\u001b[0m\n\u001b[0;32m---> 56\u001b[0;31m     \u001b[0;32mraise\u001b[0m \u001b[0mValueError\u001b[0m\u001b[0;34m(\u001b[0m\u001b[0;34m\"No faces detected in the dataset. Please check the dataset and try again.\"\u001b[0m\u001b[0;34m)\u001b[0m\u001b[0;34m\u001b[0m\u001b[0;34m\u001b[0m\u001b[0m\n\u001b[0m\u001b[1;32m     57\u001b[0m \u001b[0;34m\u001b[0m\u001b[0m\n\u001b[1;32m     58\u001b[0m \u001b[0;31m# Encode labels to integers (Binary classification: Person1, Person2)\u001b[0m\u001b[0;34m\u001b[0m\u001b[0;34m\u001b[0m\u001b[0m\n",
            "\u001b[0;31mValueError\u001b[0m: No faces detected in the dataset. Please check the dataset and try again."
          ]
        }
      ]
    }
  ]
}